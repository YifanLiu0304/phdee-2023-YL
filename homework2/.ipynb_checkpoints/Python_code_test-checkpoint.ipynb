{
 "cells": [
  {
   "cell_type": "code",
   "execution_count": 1,
   "metadata": {},
   "outputs": [],
   "source": [
    "# clear all\n",
    "from IPython import get_ipython\n",
    "get_ipython().magic('reset -sf')"
   ]
  },
  {
   "cell_type": "code",
   "execution_count": 2,
   "metadata": {},
   "outputs": [],
   "source": [
    "# import the packages\n",
    "import os\n",
    "import numpy as np\n",
    "import pandas as pd\n",
    "import matplotlib.pyplot as plt\n",
    "import seaborn as sns\n",
    "import statsmodels.api as sm\n",
    "from scipy import stats\n",
    "from scipy.optimize import minimize"
   ]
  },
  {
   "cell_type": "code",
   "execution_count": 3,
   "metadata": {},
   "outputs": [],
   "source": [
    "# Set working directories and seed\n",
    "\n",
    "wdpath = r'C:\\Users\\enact\\Dropbox (GaTech)\\phdee-2023-YL\\phdee-2023-YL\\homework2'\n",
    "outputpath = wdpath + '\\output'\n",
    "datapath = wdpath + '\\data'\n",
    "\n",
    "np.random.seed(202301221)"
   ]
  },
  {
   "cell_type": "code",
   "execution_count": 4,
   "metadata": {},
   "outputs": [
    {
     "data": {
      "text/html": [
       "<div>\n",
       "<style scoped>\n",
       "    .dataframe tbody tr th:only-of-type {\n",
       "        vertical-align: middle;\n",
       "    }\n",
       "\n",
       "    .dataframe tbody tr th {\n",
       "        vertical-align: top;\n",
       "    }\n",
       "\n",
       "    .dataframe thead th {\n",
       "        text-align: right;\n",
       "    }\n",
       "</style>\n",
       "<table border=\"1\" class=\"dataframe\">\n",
       "  <thead>\n",
       "    <tr style=\"text-align: right;\">\n",
       "      <th></th>\n",
       "      <th>electricity</th>\n",
       "      <th>sqft</th>\n",
       "      <th>retrofit</th>\n",
       "      <th>temp</th>\n",
       "    </tr>\n",
       "  </thead>\n",
       "  <tbody>\n",
       "    <tr>\n",
       "      <th>0</th>\n",
       "      <td>466.823323</td>\n",
       "      <td>779.0</td>\n",
       "      <td>1.0</td>\n",
       "      <td>79.15</td>\n",
       "    </tr>\n",
       "    <tr>\n",
       "      <th>1</th>\n",
       "      <td>488.894172</td>\n",
       "      <td>745.0</td>\n",
       "      <td>1.0</td>\n",
       "      <td>80.69</td>\n",
       "    </tr>\n",
       "    <tr>\n",
       "      <th>2</th>\n",
       "      <td>494.784288</td>\n",
       "      <td>959.0</td>\n",
       "      <td>1.0</td>\n",
       "      <td>82.38</td>\n",
       "    </tr>\n",
       "    <tr>\n",
       "      <th>3</th>\n",
       "      <td>504.289103</td>\n",
       "      <td>805.0</td>\n",
       "      <td>1.0</td>\n",
       "      <td>80.41</td>\n",
       "    </tr>\n",
       "    <tr>\n",
       "      <th>4</th>\n",
       "      <td>509.425361</td>\n",
       "      <td>730.0</td>\n",
       "      <td>1.0</td>\n",
       "      <td>78.74</td>\n",
       "    </tr>\n",
       "  </tbody>\n",
       "</table>\n",
       "</div>"
      ],
      "text/plain": [
       "   electricity   sqft  retrofit   temp\n",
       "0   466.823323  779.0       1.0  79.15\n",
       "1   488.894172  745.0       1.0  80.69\n",
       "2   494.784288  959.0       1.0  82.38\n",
       "3   504.289103  805.0       1.0  80.41\n",
       "4   509.425361  730.0       1.0  78.74"
      ]
     },
     "execution_count": 4,
     "metadata": {},
     "output_type": "execute_result"
    }
   ],
   "source": [
    "# load the dataset\n",
    "data = pd.read_csv(datapath + \"\\kwh.csv\")\n",
    "\n",
    "data.head(5)"
   ]
  },
  {
   "cell_type": "code",
   "execution_count": 5,
   "metadata": {},
   "outputs": [],
   "source": [
    "### Q1"
   ]
  },
  {
   "cell_type": "code",
   "execution_count": 6,
   "metadata": {},
   "outputs": [
    {
     "data": {
      "text/plain": [
       "electricity    1181.329465\n",
       "sqft           1633.051896\n",
       "temp             79.891377\n",
       "dtype: float64"
      ]
     },
     "execution_count": 6,
     "metadata": {},
     "output_type": "execute_result"
    }
   ],
   "source": [
    "# Generate a table of means and standard deviations for the observed variables (there are faster ways to do this that are less general)\n",
    "## Generate means\n",
    "means_c = data.loc[data[\"retrofit\"] == 0][['electricity','sqft','temp']].mean()\n",
    "means_t = data.loc[data[\"retrofit\"] == 1][['electricity','sqft','temp']].mean()\n",
    "means_c"
   ]
  },
  {
   "cell_type": "code",
   "execution_count": 7,
   "metadata": {},
   "outputs": [
    {
     "data": {
      "text/plain": [
       "electricity    454.308000\n",
       "sqft           682.903549\n",
       "temp             2.163463\n",
       "dtype: float64"
      ]
     },
     "execution_count": 7,
     "metadata": {},
     "output_type": "execute_result"
    }
   ],
   "source": [
    "## Generate standard deviations\n",
    "stdev_c = data.loc[data[\"retrofit\"] == 0][['electricity','sqft','temp']].std()\n",
    "stdev_t = data.loc[data[\"retrofit\"] == 1][['electricity','sqft','temp']].std()\n",
    "stdev_c"
   ]
  },
  {
   "cell_type": "code",
   "execution_count": 8,
   "metadata": {},
   "outputs": [
    {
     "data": {
      "text/plain": [
       "501"
      ]
     },
     "execution_count": 8,
     "metadata": {},
     "output_type": "execute_result"
    }
   ],
   "source": [
    "nobs_c = data.loc[data[\"retrofit\"] == 0].count().min()\n",
    "nobs_t = data.loc[data[\"retrofit\"] == 1].count().min()\n",
    "nobs_c"
   ]
  },
  {
   "cell_type": "code",
   "execution_count": 9,
   "metadata": {},
   "outputs": [
    {
     "data": {
      "text/plain": [
       "electricity    0.000692\n",
       "sqft           0.571630\n",
       "temp           0.987135\n",
       "dtype: float64"
      ]
     },
     "execution_count": 9,
     "metadata": {},
     "output_type": "execute_result"
    }
   ],
   "source": [
    "## Generate p-values for the two-way t-test between treatment and control group means\n",
    "diff = stats.ttest_ind(data.loc[data[\"retrofit\"] == 0][['electricity','sqft','temp']],data.loc[data[\"retrofit\"] == 1][['electricity','sqft','temp']])\n",
    "pvalue = diff[1]\n",
    "p = pd.Series(pvalue, index = ['electricity','sqft','temp'])\n",
    "p"
   ]
  },
  {
   "cell_type": "code",
   "execution_count": 10,
   "metadata": {},
   "outputs": [
    {
     "data": {
      "text/plain": [
       "electricity    \n",
       "sqft           \n",
       "temp           \n",
       "dtype: object"
      ]
     },
     "execution_count": 10,
     "metadata": {},
     "output_type": "execute_result"
    }
   ],
   "source": [
    "null = np.array(['','',''])\n",
    "null = pd.Series(null, index = ['electricity','sqft','temp'])\n",
    "null"
   ]
  },
  {
   "cell_type": "code",
   "execution_count": 11,
   "metadata": {},
   "outputs": [],
   "source": [
    "# add a blank row after each row in order to combine with the existing table\n",
    "# p.index = range(0, 2*len(p), 2)\n",
    "# new_p = p.reindex(index = range(2*len(p)))\n",
    "# new_p = new_p.replace(np.nan, '',regex=True)\n",
    "# new_p"
   ]
  },
  {
   "cell_type": "code",
   "execution_count": 12,
   "metadata": {},
   "outputs": [],
   "source": [
    "## Set the row and column names\n",
    "rownames = pd.concat([pd.Series(['electricity','sqft','temp']),pd.Series([' ',' ',' '])],axis = 1).stack() # Note this stacks an empty list to make room for stdevs\n",
    "colnames = [('Mean','(s.d.)','control group'),('Mean ','(s.d.)','treatment group'),('P-value ','of t-test','between two groups')] # three rows of column names"
   ]
  },
  {
   "cell_type": "code",
   "execution_count": 13,
   "metadata": {},
   "outputs": [],
   "source": [
    "## Format means and std devs to display to two decimal places\n",
    "means_c = means_c.map('{:.2f}'.format)\n",
    "means_t = means_t.map('{:.2f}'.format)\n",
    "stdev_c = stdev_c.map('({:.2f})'.format)\n",
    "stdev_t = stdev_t.map('({:.2f})'.format)"
   ]
  },
  {
   "cell_type": "code",
   "execution_count": 14,
   "metadata": {},
   "outputs": [
    {
     "data": {
      "text/html": [
       "<div>\n",
       "<style scoped>\n",
       "    .dataframe tbody tr th:only-of-type {\n",
       "        vertical-align: middle;\n",
       "    }\n",
       "\n",
       "    .dataframe tbody tr th {\n",
       "        vertical-align: top;\n",
       "    }\n",
       "\n",
       "    .dataframe thead th {\n",
       "        text-align: right;\n",
       "    }\n",
       "</style>\n",
       "<table border=\"1\" class=\"dataframe\">\n",
       "  <thead>\n",
       "    <tr style=\"text-align: right;\">\n",
       "      <th></th>\n",
       "      <th></th>\n",
       "      <th>0</th>\n",
       "      <th>1</th>\n",
       "      <th>2</th>\n",
       "    </tr>\n",
       "  </thead>\n",
       "  <tbody>\n",
       "    <tr>\n",
       "      <th rowspan=\"2\" valign=\"top\">electricity</th>\n",
       "      <th>0</th>\n",
       "      <td>1181.33</td>\n",
       "      <td>1086.75</td>\n",
       "      <td>0.00069222</td>\n",
       "    </tr>\n",
       "    <tr>\n",
       "      <th>1</th>\n",
       "      <td>(454.31)</td>\n",
       "      <td>(423.96)</td>\n",
       "      <td></td>\n",
       "    </tr>\n",
       "    <tr>\n",
       "      <th rowspan=\"2\" valign=\"top\">sqft</th>\n",
       "      <th>0</th>\n",
       "      <td>1633.05</td>\n",
       "      <td>1657.55</td>\n",
       "      <td>0.57163</td>\n",
       "    </tr>\n",
       "    <tr>\n",
       "      <th>1</th>\n",
       "      <td>(682.90)</td>\n",
       "      <td>(686.27)</td>\n",
       "      <td></td>\n",
       "    </tr>\n",
       "    <tr>\n",
       "      <th rowspan=\"2\" valign=\"top\">temp</th>\n",
       "      <th>0</th>\n",
       "      <td>79.89</td>\n",
       "      <td>79.89</td>\n",
       "      <td>0.987135</td>\n",
       "    </tr>\n",
       "    <tr>\n",
       "      <th>1</th>\n",
       "      <td>(2.16)</td>\n",
       "      <td>(1.97)</td>\n",
       "      <td></td>\n",
       "    </tr>\n",
       "  </tbody>\n",
       "</table>\n",
       "</div>"
      ],
      "text/plain": [
       "                      0         1           2\n",
       "electricity 0   1181.33   1086.75  0.00069222\n",
       "            1  (454.31)  (423.96)            \n",
       "sqft        0   1633.05   1657.55     0.57163\n",
       "            1  (682.90)  (686.27)            \n",
       "temp        0     79.89     79.89    0.987135\n",
       "            1    (2.16)    (1.97)            "
      ]
     },
     "execution_count": 14,
     "metadata": {},
     "output_type": "execute_result"
    }
   ],
   "source": [
    "## Align std deviations under means and add observations\n",
    "colc = pd.concat([means_c,stdev_c],axis = 1).stack()\n",
    "colt = pd.concat([means_t,stdev_t],axis = 1).stack()\n",
    "p_null = pd.concat([p,null],axis = 1).stack()\n",
    "table = pd.concat([colc,colt,p_null],axis = 1)\n",
    "table"
   ]
  },
  {
   "cell_type": "code",
   "execution_count": 15,
   "metadata": {
    "scrolled": false
   },
   "outputs": [
    {
     "data": {
      "text/html": [
       "<div>\n",
       "<style scoped>\n",
       "    .dataframe tbody tr th:only-of-type {\n",
       "        vertical-align: middle;\n",
       "    }\n",
       "\n",
       "    .dataframe tbody tr th {\n",
       "        vertical-align: top;\n",
       "    }\n",
       "\n",
       "    .dataframe thead th {\n",
       "        text-align: right;\n",
       "    }\n",
       "</style>\n",
       "<table border=\"1\" class=\"dataframe\">\n",
       "  <thead>\n",
       "    <tr style=\"text-align: right;\">\n",
       "      <th></th>\n",
       "      <th></th>\n",
       "      <th>0</th>\n",
       "      <th>1</th>\n",
       "      <th>2</th>\n",
       "    </tr>\n",
       "  </thead>\n",
       "  <tbody>\n",
       "    <tr>\n",
       "      <th rowspan=\"2\" valign=\"top\">electricity</th>\n",
       "      <th>0</th>\n",
       "      <td>1181.33</td>\n",
       "      <td>1086.75</td>\n",
       "      <td>0.00069222</td>\n",
       "    </tr>\n",
       "    <tr>\n",
       "      <th>1</th>\n",
       "      <td>(454.31)</td>\n",
       "      <td>(423.96)</td>\n",
       "      <td></td>\n",
       "    </tr>\n",
       "    <tr>\n",
       "      <th rowspan=\"2\" valign=\"top\">sqft</th>\n",
       "      <th>0</th>\n",
       "      <td>1633.05</td>\n",
       "      <td>1657.55</td>\n",
       "      <td>0.57163</td>\n",
       "    </tr>\n",
       "    <tr>\n",
       "      <th>1</th>\n",
       "      <td>(682.90)</td>\n",
       "      <td>(686.27)</td>\n",
       "      <td></td>\n",
       "    </tr>\n",
       "    <tr>\n",
       "      <th rowspan=\"2\" valign=\"top\">temp</th>\n",
       "      <th>0</th>\n",
       "      <td>79.89</td>\n",
       "      <td>79.89</td>\n",
       "      <td>0.987135</td>\n",
       "    </tr>\n",
       "    <tr>\n",
       "      <th>1</th>\n",
       "      <td>(2.16)</td>\n",
       "      <td>(1.97)</td>\n",
       "      <td></td>\n",
       "    </tr>\n",
       "  </tbody>\n",
       "</table>\n",
       "</div>"
      ],
      "text/plain": [
       "                      0         1           2\n",
       "electricity 0   1181.33   1086.75  0.00069222\n",
       "            1  (454.31)  (423.96)            \n",
       "sqft        0   1633.05   1657.55     0.57163\n",
       "            1  (682.90)  (686.27)            \n",
       "temp        0     79.89     79.89    0.987135\n",
       "            1    (2.16)    (1.97)            "
      ]
     },
     "execution_count": 15,
     "metadata": {},
     "output_type": "execute_result"
    }
   ],
   "source": [
    "## Add column and row labels.  Convert to dataframe (helps when you export it)\n",
    "table = pd.DataFrame(table)\n",
    "table"
   ]
  },
  {
   "cell_type": "code",
   "execution_count": 18,
   "metadata": {},
   "outputs": [
    {
     "data": {
      "text/html": [
       "<div>\n",
       "<style scoped>\n",
       "    .dataframe tbody tr th:only-of-type {\n",
       "        vertical-align: middle;\n",
       "    }\n",
       "\n",
       "    .dataframe tbody tr th {\n",
       "        vertical-align: top;\n",
       "    }\n",
       "\n",
       "    .dataframe thead th {\n",
       "        text-align: right;\n",
       "    }\n",
       "</style>\n",
       "<table border=\"1\" class=\"dataframe\">\n",
       "  <thead>\n",
       "    <tr style=\"text-align: right;\">\n",
       "      <th></th>\n",
       "      <th>0</th>\n",
       "      <th>1</th>\n",
       "      <th>2</th>\n",
       "    </tr>\n",
       "  </thead>\n",
       "  <tbody>\n",
       "    <tr>\n",
       "      <th>electricity</th>\n",
       "      <td>1181.33</td>\n",
       "      <td>1086.75</td>\n",
       "      <td>0.00069222</td>\n",
       "    </tr>\n",
       "    <tr>\n",
       "      <th></th>\n",
       "      <td>(454.31)</td>\n",
       "      <td>(423.96)</td>\n",
       "      <td></td>\n",
       "    </tr>\n",
       "    <tr>\n",
       "      <th>sqft</th>\n",
       "      <td>1633.05</td>\n",
       "      <td>1657.55</td>\n",
       "      <td>0.57163</td>\n",
       "    </tr>\n",
       "    <tr>\n",
       "      <th></th>\n",
       "      <td>(682.90)</td>\n",
       "      <td>(686.27)</td>\n",
       "      <td></td>\n",
       "    </tr>\n",
       "    <tr>\n",
       "      <th>temp</th>\n",
       "      <td>79.89</td>\n",
       "      <td>79.89</td>\n",
       "      <td>0.987135</td>\n",
       "    </tr>\n",
       "    <tr>\n",
       "      <th></th>\n",
       "      <td>(2.16)</td>\n",
       "      <td>(1.97)</td>\n",
       "      <td></td>\n",
       "    </tr>\n",
       "  </tbody>\n",
       "</table>\n",
       "</div>"
      ],
      "text/plain": [
       "                    0         1           2\n",
       "electricity   1181.33   1086.75  0.00069222\n",
       "             (454.31)  (423.96)            \n",
       "sqft          1633.05   1657.55     0.57163\n",
       "             (682.90)  (686.27)            \n",
       "temp            79.89     79.89    0.987135\n",
       "               (2.16)    (1.97)            "
      ]
     },
     "execution_count": 18,
     "metadata": {},
     "output_type": "execute_result"
    }
   ],
   "source": [
    "table.index = rownames\n",
    "table"
   ]
  },
  {
   "cell_type": "code",
   "execution_count": 19,
   "metadata": {},
   "outputs": [
    {
     "data": {
      "text/plain": [
       "MultiIndex([(    'Mean',    '(s.d.)',      'control group'),\n",
       "            (   'Mean ',    '(s.d.)',    'treatment group'),\n",
       "            ('P-value ', 'of t-test', 'between two groups')],\n",
       "           )"
      ]
     },
     "execution_count": 19,
     "metadata": {},
     "output_type": "execute_result"
    }
   ],
   "source": [
    "table.columns = pd.MultiIndex.from_tuples(colnames)\n",
    "\n",
    "table.columns"
   ]
  },
  {
   "cell_type": "code",
   "execution_count": 20,
   "metadata": {},
   "outputs": [
    {
     "data": {
      "text/html": [
       "<div>\n",
       "<style scoped>\n",
       "    .dataframe tbody tr th:only-of-type {\n",
       "        vertical-align: middle;\n",
       "    }\n",
       "\n",
       "    .dataframe tbody tr th {\n",
       "        vertical-align: top;\n",
       "    }\n",
       "\n",
       "    .dataframe thead tr th {\n",
       "        text-align: left;\n",
       "    }\n",
       "</style>\n",
       "<table border=\"1\" class=\"dataframe\">\n",
       "  <thead>\n",
       "    <tr>\n",
       "      <th></th>\n",
       "      <th>Mean</th>\n",
       "      <th>Mean</th>\n",
       "      <th>P-value</th>\n",
       "    </tr>\n",
       "    <tr>\n",
       "      <th></th>\n",
       "      <th>(s.d.)</th>\n",
       "      <th>(s.d.)</th>\n",
       "      <th>of t-test</th>\n",
       "    </tr>\n",
       "    <tr>\n",
       "      <th></th>\n",
       "      <th>control group</th>\n",
       "      <th>treatment group</th>\n",
       "      <th>between two groups</th>\n",
       "    </tr>\n",
       "  </thead>\n",
       "  <tbody>\n",
       "    <tr>\n",
       "      <th>electricity</th>\n",
       "      <td>1181.33</td>\n",
       "      <td>1086.75</td>\n",
       "      <td>0.00069222</td>\n",
       "    </tr>\n",
       "    <tr>\n",
       "      <th></th>\n",
       "      <td>(454.31)</td>\n",
       "      <td>(423.96)</td>\n",
       "      <td></td>\n",
       "    </tr>\n",
       "    <tr>\n",
       "      <th>sqft</th>\n",
       "      <td>1633.05</td>\n",
       "      <td>1657.55</td>\n",
       "      <td>0.57163</td>\n",
       "    </tr>\n",
       "    <tr>\n",
       "      <th></th>\n",
       "      <td>(682.90)</td>\n",
       "      <td>(686.27)</td>\n",
       "      <td></td>\n",
       "    </tr>\n",
       "    <tr>\n",
       "      <th>temp</th>\n",
       "      <td>79.89</td>\n",
       "      <td>79.89</td>\n",
       "      <td>0.987135</td>\n",
       "    </tr>\n",
       "    <tr>\n",
       "      <th></th>\n",
       "      <td>(2.16)</td>\n",
       "      <td>(1.97)</td>\n",
       "      <td></td>\n",
       "    </tr>\n",
       "  </tbody>\n",
       "</table>\n",
       "</div>"
      ],
      "text/plain": [
       "                     Mean           Mean            P-value \n",
       "                   (s.d.)          (s.d.)          of t-test\n",
       "            control group treatment group between two groups\n",
       "electricity       1181.33         1086.75         0.00069222\n",
       "                 (454.31)        (423.96)                   \n",
       "sqft              1633.05         1657.55            0.57163\n",
       "                 (682.90)        (686.27)                   \n",
       "temp                79.89           79.89           0.987135\n",
       "                   (2.16)          (1.97)                   "
      ]
     },
     "execution_count": 20,
     "metadata": {},
     "output_type": "execute_result"
    }
   ],
   "source": [
    "table"
   ]
  },
  {
   "cell_type": "code",
   "execution_count": 21,
   "metadata": {},
   "outputs": [],
   "source": [
    "## Output to LaTeX folder\n",
    "os.chdir(outputpath) # Output directly to LaTeX folder\n",
    "\n",
    "table.to_latex('table.tex') "
   ]
  },
  {
   "cell_type": "code",
   "execution_count": null,
   "metadata": {},
   "outputs": [],
   "source": []
  },
  {
   "cell_type": "code",
   "execution_count": null,
   "metadata": {},
   "outputs": [],
   "source": [
    "### Q2"
   ]
  },
  {
   "cell_type": "code",
   "execution_count": 201,
   "metadata": {},
   "outputs": [
    {
     "name": "stderr",
     "output_type": "stream",
     "text": [
      "C:\\ProgramData\\Anaconda3\\lib\\site-packages\\matplotlib\\cbook\\__init__.py:2062: FutureWarning: Support for multi-dimensional indexing (e.g. `obj[:, None]`) is deprecated and will be removed in a future version.  Convert to a numpy array before indexing instead.\n",
      "  x[:, None]\n",
      "C:\\ProgramData\\Anaconda3\\lib\\site-packages\\matplotlib\\axes\\_base.py:248: FutureWarning: Support for multi-dimensional indexing (e.g. `obj[:, None]`) is deprecated and will be removed in a future version.  Convert to a numpy array before indexing instead.\n",
      "  x = x[:, np.newaxis]\n",
      "C:\\ProgramData\\Anaconda3\\lib\\site-packages\\matplotlib\\axes\\_base.py:250: FutureWarning: Support for multi-dimensional indexing (e.g. `obj[:, None]`) is deprecated and will be removed in a future version.  Convert to a numpy array before indexing instead.\n",
      "  y = y[:, np.newaxis]\n"
     ]
    },
    {
     "data": {
      "image/png": "[encoded data removed]",
      "text/plain": [
       "<Figure size 360x360 with 1 Axes>"
      ]
     },
     "metadata": {},
     "output_type": "display_data"
    }
   ],
   "source": [
    "sns.displot(data = data,x= 'electricity', hue = 'retrofit', kind='kde',legend = False)\n",
    "plt.xlabel('The electricity use')\n",
    "# plt.legend(labels = ['Distribution of outcome variable'],loc = 'best',bbox_to_anchor = (0.75,-0.1))\n",
    "plt.legend(['treatment group','control group'])\n",
    "plt.savefig('samplehist.pdf',format='pdf') # I suggest saving to .pdf for highest quality\n",
    "plt.show()"
   ]
  },
  {
   "cell_type": "code",
   "execution_count": null,
   "metadata": {},
   "outputs": [],
   "source": []
  },
  {
   "cell_type": "code",
   "execution_count": null,
   "metadata": {},
   "outputs": [],
   "source": [
    "### Q3"
   ]
  },
  {
   "cell_type": "code",
   "execution_count": 237,
   "metadata": {},
   "outputs": [
    {
     "name": "stdout",
     "output_type": "stream",
     "text": [
      "[ -83.60275758    0.61533854 -109.66617626    3.25507541]\n"
     ]
    }
   ],
   "source": [
    "## OLS by hand\n",
    "Y = data['electricity'].to_numpy()\n",
    "\n",
    "intercept = np.ones((Y.shape[0],1))\n",
    "b1 = data[['sqft','retrofit','temp']].to_numpy()\n",
    "X = np.concatenate((intercept,b1), axis = 1)\n",
    "\n",
    "bh = np.dot(np.linalg.inv(np.dot(X.T,X)),np.dot(X.T,Y))\n",
    "print(bh)"
   ]
  },
  {
   "cell_type": "code",
   "execution_count": 238,
   "metadata": {},
   "outputs": [
    {
     "name": "stdout",
     "output_type": "stream",
     "text": [
      "[ -83.60275758    0.61533854 -109.66617626    3.25507541]\n"
     ]
    },
    {
     "name": "stderr",
     "output_type": "stream",
     "text": [
      "C:\\ProgramData\\Anaconda3\\lib\\site-packages\\ipykernel_launcher.py:2: FutureWarning: `rcond` parameter will change to the default of machine precision times ``max(M, N)`` where M and N are the input matrix dimensions.\n",
      "To use the future default and silence this warning we advise to pass `rcond=None`, to keep using the old, explicitly pass `rcond=-1`.\n",
      "  \n"
     ]
    }
   ],
   "source": [
    "# check the calculation with Numpy's built-in OLS functions\n",
    "z, resid, rank, sigma = np.linalg.lstsq(X,Y)\n",
    "print(z)"
   ]
  },
  {
   "cell_type": "code",
   "execution_count": null,
   "metadata": {},
   "outputs": [],
   "source": []
  },
  {
   "cell_type": "code",
   "execution_count": 227,
   "metadata": {},
   "outputs": [],
   "source": [
    "## OLS by simulated least squares\n",
    "\n",
    "\n",
    "\n",
    "def cost_function(params, X, y):\n",
    "    return np.linalg.norm(y - fit(X, params.reshape(d,1)))\n",
    "\n"
   ]
  },
  {
   "cell_type": "code",
   "execution_count": null,
   "metadata": {},
   "outputs": [],
   "source": []
  },
  {
   "cell_type": "code",
   "execution_count": 239,
   "metadata": {},
   "outputs": [],
   "source": [
    "## OLS using a canned routine\n",
    "# Using statsmodels\n",
    "ols = sm.OLS(data['electricity'],sm.add_constant(data.drop('electricity',axis = 1))).fit()\n",
    "betaols = ols.params.to_numpy() # save estimated parameters\n",
    "params, = np.shape(betaols) # save number of estimated parameters\n",
    "nobs3 = int(ols.nobs)"
   ]
  },
  {
   "cell_type": "code",
   "execution_count": 240,
   "metadata": {},
   "outputs": [
    {
     "data": {
      "text/plain": [
       "const       -83.602758\n",
       "sqft          0.615339\n",
       "retrofit   -109.666176\n",
       "temp          3.255075\n",
       "dtype: float64"
      ]
     },
     "execution_count": 240,
     "metadata": {},
     "output_type": "execute_result"
    }
   ],
   "source": [
    "ols.params"
   ]
  },
  {
   "cell_type": "code",
   "execution_count": null,
   "metadata": {},
   "outputs": [],
   "source": []
  },
  {
   "cell_type": "code",
   "execution_count": null,
   "metadata": {},
   "outputs": [],
   "source": []
  }
 ],
 "metadata": {
  "kernelspec": {
   "display_name": "Python 3",
   "language": "python",
   "name": "python3"
  },
  "language_info": {
   "codemirror_mode": {
    "name": "ipython",
    "version": 3
   },
   "file_extension": ".py",
   "mimetype": "text/x-python",
   "name": "python",
   "nbconvert_exporter": "python",
   "pygments_lexer": "ipython3",
   "version": "3.6.5"
  }
 },
 "nbformat": 4,
 "nbformat_minor": 2
}
